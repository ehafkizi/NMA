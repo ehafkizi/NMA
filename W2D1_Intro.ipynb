{
  "cells": [
    {
      "cell_type": "markdown",
      "metadata": {
        "id": "view-in-github",
        "colab_type": "text"
      },
      "source": [
        "<a href=\"https://colab.research.google.com/github/ehafkizi/NMA/blob/main/W2D1_Intro.ipynb\" target=\"_parent\"><img src=\"https://colab.research.google.com/assets/colab-badge.svg\" alt=\"Open In Colab\"/></a>"
      ]
    },
    {
      "cell_type": "markdown",
      "metadata": {
        "execution": {},
        "pycharm": {
          "name": "#%% md\n"
        },
        "id": "LjtCZjEeheT2"
      },
      "source": [
        "# Intro"
      ]
    },
    {
      "cell_type": "markdown",
      "metadata": {
        "execution": {},
        "pycharm": {
          "name": "#%% md\n"
        },
        "id": "UbI-QG4uheT3"
      },
      "source": [
        "## Overview\n",
        "\n",
        "During the first day, you learned that different models can answer different questions. That means that depending on your question, goals, and hypotheses, you will need to develop different kinds of models. Our goal today will be to examine how to best approach developing a model based on the details of a specific project.\n",
        "\n",
        "Today's tutorial will focus on the following steps: how to develop a good question and goal, how to do a literature review, how to determine what ingredients you need, and what hypotheses you would like to evaluate.  We will demonstrate these steps using a project that is focused on a simple phenomenon known as the train illusion. We will first introduce the phenomenon and then provide a guide for each of the steps. Groups will then think about their own projects and develop answers to each step’s questions. We will introduce an online project planner based on a large language model that can give you feedback to these answers, which you can use iteratively to develop the full plan of your project. Different types of projects will probably go through the steps in a different order, but at the end, all projects should complete all steps.\n",
        "\n",
        "How to model is rarely, if ever, taught systematically. Our guide and project planner is not the only way to approach modeling, but it’s one way to ensure you don’t miss anything important. Going through all the steps also makes publication much easier because you have already explicitly thought about all the elements you will ultimately need to communicate (see Abstract section later for example).\n"
      ]
    },
    {
      "cell_type": "code",
      "execution_count": null,
      "metadata": {
        "cellView": "form",
        "execution": {},
        "id": "S_FRtDB9heT5"
      },
      "outputs": [],
      "source": [
        "# @title Install and import feedback gadget\n",
        "\n",
        "!pip3 install vibecheck datatops --quiet\n",
        "\n",
        "from vibecheck import DatatopsContentReviewContainer\n",
        "def content_review(notebook_section: str):\n",
        "    return DatatopsContentReviewContainer(\n",
        "        \"\",  # No text prompt\n",
        "        notebook_section,\n",
        "        {\n",
        "            \"url\": \"https://pmyvdlilci.execute-api.us-east-1.amazonaws.com/klab\",\n",
        "            \"name\": \"neuromatch_cn\",\n",
        "            \"user_key\": \"y1x3mpx5\",\n",
        "        },\n",
        "    ).render()\n",
        "\n",
        "\n",
        "feedback_prefix = \"W2D1_Intro\""
      ]
    },
    {
      "cell_type": "code",
      "execution_count": null,
      "metadata": {
        "cellView": "form",
        "execution": {},
        "id": "uyo8GtWfheT6"
      },
      "outputs": [],
      "source": [
        "# @title Submit your feedback\n",
        "content_review(f\"{feedback_prefix}_Video\")"
      ]
    }
  ],
  "metadata": {
    "colab": {
      "name": "W2D1_Intro",
      "provenance": [],
      "toc_visible": true,
      "include_colab_link": true
    },
    "kernel": {
      "display_name": "Python 3",
      "language": "python",
      "name": "python3"
    },
    "kernelspec": {
      "display_name": "Python 3 (ipykernel)",
      "language": "python",
      "name": "python3"
    },
    "language_info": {
      "codemirror_mode": {
        "name": "ipython",
        "version": 3
      },
      "file_extension": ".py",
      "mimetype": "text/x-python",
      "name": "python",
      "nbconvert_exporter": "python",
      "pygments_lexer": "ipython3",
      "version": "3.9.22"
    }
  },
  "nbformat": 4,
  "nbformat_minor": 0
}